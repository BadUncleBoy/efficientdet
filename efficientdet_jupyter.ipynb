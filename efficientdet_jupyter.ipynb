{
 "metadata": {
  "language_info": {
   "codemirror_mode": {
    "name": "ipython",
    "version": 3
   },
   "file_extension": ".py",
   "mimetype": "text/x-python",
   "name": "python",
   "nbconvert_exporter": "python",
   "pygments_lexer": "ipython3",
   "version": "3.5.2-final"
  },
  "orig_nbformat": 2,
  "kernelspec": {
   "name": "python3",
   "display_name": "Python 3"
  }
 },
 "nbformat": 4,
 "nbformat_minor": 2,
 "cells": [
  {
   "cell_type": "code",
   "execution_count": 4,
   "metadata": {
    "tags": []
   },
   "outputs": [
    {
     "output_type": "stream",
     "name": "stdout",
     "text": "loading annotations into memory...\nDone (t=0.87s)\ncreating index...\nindex created!\n100%|███████████████████████████████████████| 5000/5000 [06:50<00:00, 12.17it/s]\nLoading and preparing results...\nDONE (t=12.61s)\ncreating index...\nindex created!\nBBox\nRunning per image evaluation...\nEvaluate annotation type *bbox*\nDONE (t=143.01s).\nAccumulating evaluation results...\nDONE (t=18.39s).\n Average Precision  (AP) @[ IoU=0.50:0.95 | area=   all | maxDets=100 ] = 0.233\n Average Precision  (AP) @[ IoU=0.50      | area=   all | maxDets=100 ] = 0.392\n Average Precision  (AP) @[ IoU=0.75      | area=   all | maxDets=100 ] = 0.242\n Average Precision  (AP) @[ IoU=0.50:0.95 | area= small | maxDets=100 ] = 0.087\n Average Precision  (AP) @[ IoU=0.50:0.95 | area=medium | maxDets=100 ] = 0.270\n Average Precision  (AP) @[ IoU=0.50:0.95 | area= large | maxDets=100 ] = 0.363\n Average Recall     (AR) @[ IoU=0.50:0.95 | area=   all | maxDets=  1 ] = 0.220\n Average Recall     (AR) @[ IoU=0.50:0.95 | area=   all | maxDets= 10 ] = 0.332\n Average Recall     (AR) @[ IoU=0.50:0.95 | area=   all | maxDets=100 ] = 0.366\n Average Recall     (AR) @[ IoU=0.50:0.95 | area= small | maxDets=100 ] = 0.117\n Average Recall     (AR) @[ IoU=0.50:0.95 | area=medium | maxDets=100 ] = 0.447\n Average Recall     (AR) @[ IoU=0.50:0.95 | area= large | maxDets=100 ] = 0.537\n"
    }
   ],
   "source": [
    "!python val.py\n",
    "# self trained effectivedet in coco \n",
    "# fuck you "
   ]
  },
  {
   "cell_type": "code",
   "execution_count": 2,
   "metadata": {
    "tags": []
   },
   "outputs": [
    {
     "output_type": "stream",
     "name": "stdout",
     "text": "loading annotations into memory...\nDone (t=0.99s)\ncreating index...\nindex created!\n100%|███████████████████████████████████████| 5000/5000 [06:27<00:00, 12.89it/s]\nLoading and preparing results...\nDONE (t=14.65s)\ncreating index...\nindex created!\nBBox\nRunning per image evaluation...\nEvaluate annotation type *bbox*\nDONE (t=169.67s).\nAccumulating evaluation results...\nDONE (t=21.58s).\n Average Precision  (AP) @[ IoU=0.50:0.95 | area=   all | maxDets=100 ] = 0.332\n Average Precision  (AP) @[ IoU=0.50      | area=   all | maxDets=100 ] = 0.513\n Average Precision  (AP) @[ IoU=0.75      | area=   all | maxDets=100 ] = 0.349\n Average Precision  (AP) @[ IoU=0.50:0.95 | area= small | maxDets=100 ] = 0.122\n Average Precision  (AP) @[ IoU=0.50:0.95 | area=medium | maxDets=100 ] = 0.382\n Average Precision  (AP) @[ IoU=0.50:0.95 | area= large | maxDets=100 ] = 0.522\n Average Recall     (AR) @[ IoU=0.50:0.95 | area=   all | maxDets=  1 ] = 0.279\n Average Recall     (AR) @[ IoU=0.50:0.95 | area=   all | maxDets= 10 ] = 0.425\n Average Recall     (AR) @[ IoU=0.50:0.95 | area=   all | maxDets=100 ] = 0.464\n Average Recall     (AR) @[ IoU=0.50:0.95 | area= small | maxDets=100 ] = 0.202\n Average Recall     (AR) @[ IoU=0.50:0.95 | area=medium | maxDets=100 ] = 0.544\n Average Recall     (AR) @[ IoU=0.50:0.95 | area= large | maxDets=100 ] = 0.662\n"
    }
   ],
   "source": [
    "! python val.py\n",
    "# effectivedet pretrained weights in coco"
   ]
  },
  {
   "cell_type": "code",
   "execution_count": 1,
   "metadata": {
    "tags": []
   },
   "outputs": [
    {
     "output_type": "stream",
     "name": "stdout",
     "text": "100%|███████████████████████████████████████| 1906/1906 [02:38<00:00, 12.72it/s]\nclass:aeroplane      Precision:0.003\tRecall:0.692\tAP:0.462\nclass:bicycle        Precision:0.002\tRecall:0.449\tAP:0.264\nclass:bird           Precision:0.003\tRecall:0.503\tAP:0.113\nclass:boat           Precision:0.001\tRecall:0.385\tAP:0.089\nclass:bottle         Precision:0.001\tRecall:0.093\tAP:0.031\nclass:bus            Precision:0.002\tRecall:0.532\tAP:0.434\nclass:car            Precision:0.004\tRecall:0.238\tAP:0.187\nclass:cat            Precision:0.001\tRecall:0.706\tAP:0.354\nclass:chair          Precision:0.001\tRecall:0.133\tAP:0.021\nclass:cow            Precision:0.001\tRecall:0.390\tAP:0.171\nclass:diningtable    Precision:0.000\tRecall:0.333\tAP:0.045\nclass:dog            Precision:0.006\tRecall:0.651\tAP:0.301\nclass:horse          Precision:0.001\tRecall:0.592\tAP:0.342\nclass:motorbike      Precision:0.004\tRecall:0.483\tAP:0.117\nclass:person         Precision:0.004\tRecall:0.365\tAP:0.077\nclass:pottedplant    Precision:0.000\tRecall:0.171\tAP:0.017\nclass:sheep          Precision:0.001\tRecall:0.316\tAP:0.069\nclass:sofa           Precision:0.003\tRecall:0.520\tAP:0.112\nclass:train          Precision:0.001\tRecall:0.661\tAP:0.396\nclass:tvmonitor      Precision:0.000\tRecall:0.271\tAP:0.152\n"
    }
   ],
   "source": [
    "! python val.py\n",
    "# anchor free mode effecdet in pascal voc training 8 epoches"
   ]
  },
  {
   "cell_type": "code",
   "execution_count": 1,
   "metadata": {
    "tags": []
   },
   "outputs": [
    {
     "output_type": "stream",
     "name": "stdout",
     "text": "100%|█████████████████████████████████████████| 616/616 [00:52<00:00, 11.39it/s]\nclass:knife          Precision:0.011\tRecall:0.827\tAP:0.259\nclass:scissors       Precision:0.005\tRecall:0.790\tAP:0.142\nclass:lighter        Precision:0.008\tRecall:0.863\tAP:0.426\nclass:zippooil       Precision:0.010\tRecall:0.794\tAP:0.337\nclass:pressure       Precision:0.006\tRecall:0.880\tAP:0.412\nclass:slingshot      Precision:0.002\tRecall:0.800\tAP:0.243\nclass:handcuffs      Precision:0.009\tRecall:0.949\tAP:0.396\nclass:nailpolish     Precision:0.002\tRecall:0.727\tAP:0.039\nclass:powerbank      Precision:0.026\tRecall:0.947\tAP:0.704\nclass:firecrackers   Precision:0.005\tRecall:0.767\tAP:0.254\n"
    }
   ],
   "source": [
    "! python val.py"
   ]
  },
  {
   "cell_type": "code",
   "execution_count": 3,
   "metadata": {
    "tags": []
   },
   "outputs": [
    {
     "output_type": "stream",
     "name": "stdout",
     "text": "R_mean is 0.750033, G_mean is 0.811906, B_mean is 0.791236\nR_var is 0.266911, G_var is 0.231149, B_var is 0.281710\n"
    }
   ],
   "source": [
    "import os\n",
    "import cv2\n",
    "import numpy as np\n",
    "filepath ='/data/zy/kdxf/train.txt'\n",
    "pathes   = [each.strip() for each in open(filepath, \"r\").readlines()]\n",
    "pathDir  = [os.path.join(\"/data/zy/kdxf\", each.split(\" \")[1]) for each in pathes]\n",
    "R_channel = 0\n",
    "G_channel = 0\n",
    "B_channel = 0\n",
    "for file_path in pathDir:\n",
    "    img = cv2.imread(file_path)\n",
    "    img = cv2.resize(img, (512,512)) / 255.0\n",
    "    R_channel = R_channel + np.sum(img[:, :, 0])\n",
    "    G_channel = G_channel + np.sum(img[:, :, 1])\n",
    "    B_channel = B_channel + np.sum(img[:, :, 2])\n",
    " \n",
    "num = len(pathDir) * 512 * 512  # 这里（512,512）是每幅图片的大小，所有图片尺寸都一样\n",
    "R_mean = R_channel / num\n",
    "G_mean = G_channel / num\n",
    "B_mean = B_channel / num\n",
    " \n",
    "R_channel = 0\n",
    "G_channel = 0\n",
    "B_channel = 0\n",
    "for file_path in pathDir: \n",
    "    img = cv2.imread(file_path)\n",
    "    img = cv2.resize(img, (512,512)) / 255.0\n",
    "    R_channel = R_channel + np.sum((img[:, :, 0] - R_mean) ** 2)\n",
    "    G_channel = G_channel + np.sum((img[:, :, 1] - G_mean) ** 2)\n",
    "    B_channel = B_channel + np.sum((img[:, :, 2] - B_mean) ** 2)\n",
    " \n",
    "R_var = np.sqrt(R_channel / num)\n",
    "G_var = np.sqrt(G_channel / num)\n",
    "B_var = np.sqrt(B_channel / num)\n",
    "print(\"R_mean is %f, G_mean is %f, B_mean is %f\" % (R_mean, G_mean, B_mean))\n",
    "print(\"R_var is %f, G_var is %f, B_var is %f\" % (R_var, G_var, B_var))"
   ]
  }
 ]
}